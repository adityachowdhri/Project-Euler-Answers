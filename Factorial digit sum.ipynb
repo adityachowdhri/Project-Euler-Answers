{
 "cells": [
  {
   "cell_type": "code",
   "execution_count": 12,
   "metadata": {},
   "outputs": [
    {
     "name": "stdout",
     "output_type": "stream",
     "text": [
      "648\n"
     ]
    }
   ],
   "source": [
    "x = 1 \n",
    "n=1\n",
    "b=0\n",
    "listx=[]\n",
    "while True:\n",
    "    x=x*(n+1)\n",
    "    n=n+1\n",
    "    if n>=100:\n",
    "        break\n",
    "listx.append(x)\n",
    "output = list(map(int, str(listx[0]))) \n",
    "for a in output:\n",
    "    b=a+b\n",
    "print(b)\n",
    "    \n",
    "    \n",
    "    "
   ]
  },
  {
   "cell_type": "code",
   "execution_count": null,
   "metadata": {},
   "outputs": [],
   "source": []
  }
 ],
 "metadata": {
  "kernelspec": {
   "display_name": "Python 3",
   "language": "python",
   "name": "python3"
  },
  "language_info": {
   "codemirror_mode": {
    "name": "ipython",
    "version": 3
   },
   "file_extension": ".py",
   "mimetype": "text/x-python",
   "name": "python",
   "nbconvert_exporter": "python",
   "pygments_lexer": "ipython3",
   "version": "3.7.6"
  }
 },
 "nbformat": 4,
 "nbformat_minor": 4
}
