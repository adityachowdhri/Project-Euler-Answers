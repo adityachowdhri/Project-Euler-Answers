{
 "cells": [
  {
   "cell_type": "markdown",
   "metadata": {},
   "source": [
    "# Power digit sum"
   ]
  },
  {
   "cell_type": "code",
   "execution_count": 5,
   "metadata": {},
   "outputs": [
    {
     "name": "stdout",
     "output_type": "stream",
     "text": [
      "1366\n"
     ]
    }
   ],
   "source": [
    "input = [2**1000] \n",
    "b=0\n",
    " \n",
    "output = list(map(int, str(input[0]))) \n",
    "\n",
    "  \n",
    "\n",
    "for a in output:\n",
    "    b=a+b\n",
    "print(b)\n",
    "    \n",
    "    "
   ]
  },
  {
   "cell_type": "markdown",
   "metadata": {},
   "source": [
    "# Multiples of 3 and 5"
   ]
  },
  {
   "cell_type": "code",
   "execution_count": 7,
   "metadata": {},
   "outputs": [
    {
     "name": "stdout",
     "output_type": "stream",
     "text": [
      "234168\n"
     ]
    }
   ],
   "source": [
    "sum=0\n",
    "for x in range (0,1001):\n",
    "    if (x % 3==0) or (x % 5 == 0):\n",
    "        sum = sum + x\n",
    "print(sum)"
   ]
  },
  {
   "cell_type": "markdown",
   "metadata": {},
   "source": [
    "# Factorial digit sum"
   ]
  },
  {
   "cell_type": "code",
   "execution_count": 8,
   "metadata": {},
   "outputs": [
    {
     "name": "stdout",
     "output_type": "stream",
     "text": [
      "648\n"
     ]
    }
   ],
   "source": [
    "x = 1 \n",
    "n=1\n",
    "b=0\n",
    "listx=[]\n",
    "while True:\n",
    "    x=x*(n+1)\n",
    "    n=n+1\n",
    "    if n>=100:\n",
    "        break\n",
    "listx.append(x)\n",
    "output = list(map(int, str(listx[0]))) \n",
    "for a in output:\n",
    "    b=a+b\n",
    "print(b)\n",
    "    "
   ]
  },
  {
   "cell_type": "markdown",
   "metadata": {},
   "source": [
    "# 1000-digit Fibonacci number# Digit fifth powers"
   ]
  },
  {
   "cell_type": "code",
   "execution_count": 10,
   "metadata": {},
   "outputs": [
    {
     "name": "stdout",
     "output_type": "stream",
     "text": [
      "16\n"
     ]
    }
   ],
   "source": [
    "x1=1\n",
    "x2=0\n",
    "xn=0\n",
    "ans=0\n",
    "counter=0\n",
    "while xn<=1000:\n",
    "    xn=x1+x2\n",
    "    x2=x1\n",
    "    x1=xn\n",
    "    counter=counter+1\n",
    "print(counter)"
   ]
  },
  {
   "cell_type": "markdown",
   "metadata": {},
   "source": [
    "# Combinatoric selections\n"
   ]
  },
  {
   "cell_type": "code",
   "execution_count": 20,
   "metadata": {},
   "outputs": [
    {
     "name": "stdout",
     "output_type": "stream",
     "text": [
      "4075\n"
     ]
    }
   ],
   "source": [
    "# lower limit will be n because thats least value \n",
    "# r will be 9 as 10 is most for million\n",
    "\n",
    "n = 23\n",
    "r = 9\n",
    "C = 817190\n",
    "t = 4\n",
    "while n < 100:\n",
    "    n = n+ 1\n",
    "    C = (C * n) // (n - r)\n",
    "    while C <= 1000000:\n",
    "        C1 = C * (n-r) // (r+1)\n",
    "        if C1 <= 1000000:\n",
    "            C = C1\n",
    "        else:\n",
    "            break\n",
    "    while C > 1000000:\n",
    "        C = (C * r) // (n - r + 1)\n",
    "        r -= 1\n",
    "    t += (n - 2*r - 1)\n",
    "print(total)"
   ]
  },
  {
   "cell_type": "code",
   "execution_count": null,
   "metadata": {},
   "outputs": [],
   "source": []
  }
 ],
 "metadata": {
  "kernelspec": {
   "display_name": "Python 3",
   "language": "python",
   "name": "python3"
  },
  "language_info": {
   "codemirror_mode": {
    "name": "ipython",
    "version": 3
   },
   "file_extension": ".py",
   "mimetype": "text/x-python",
   "name": "python",
   "nbconvert_exporter": "python",
   "pygments_lexer": "ipython3",
   "version": "3.7.6"
  }
 },
 "nbformat": 4,
 "nbformat_minor": 4
}
