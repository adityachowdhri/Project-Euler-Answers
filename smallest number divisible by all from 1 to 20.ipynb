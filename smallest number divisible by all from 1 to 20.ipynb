{
 "cells": [
  {
   "cell_type": "code",
   "execution_count": 3,
   "metadata": {},
   "outputs": [
    {
     "name": "stdout",
     "output_type": "stream",
     "text": [
      "9699690\n"
     ]
    }
   ],
   "source": [
    "num = 20\n",
    "while True:\n",
    "    if (num % 2 == 0) and (num % 3 == 0) and (num % 5 == 0) and (num % 7 == 0) and (num % 11 == 0) and  (num % 13 == 0) and (num % 17 == 0) and (num % 19 == 0):\n",
    "        break \n",
    "    num = num + 1\n",
    "print(num)\n",
    "    "
   ]
  },
  {
   "cell_type": "code",
   "execution_count": null,
   "metadata": {},
   "outputs": [],
   "source": []
  }
 ],
 "metadata": {
  "kernelspec": {
   "display_name": "Python 3",
   "language": "python",
   "name": "python3"
  },
  "language_info": {
   "codemirror_mode": {
    "name": "ipython",
    "version": 3
   },
   "file_extension": ".py",
   "mimetype": "text/x-python",
   "name": "python",
   "nbconvert_exporter": "python",
   "pygments_lexer": "ipython3",
   "version": "3.7.6"
  }
 },
 "nbformat": 4,
 "nbformat_minor": 4
}
